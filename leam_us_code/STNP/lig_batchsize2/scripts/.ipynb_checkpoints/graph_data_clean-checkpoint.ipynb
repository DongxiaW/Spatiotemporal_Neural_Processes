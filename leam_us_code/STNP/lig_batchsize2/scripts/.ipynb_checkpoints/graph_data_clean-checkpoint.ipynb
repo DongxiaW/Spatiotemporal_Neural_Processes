{
 "cells": [
  {
   "cell_type": "code",
   "execution_count": 2,
   "metadata": {},
   "outputs": [],
   "source": [
    "import pandas as pd\n",
    "import numpy as np\n",
    "from numpy import savetxt\n",
    "# pd.set_option('display.max_rows', None)\n",
    "# pd.set_option('display.max_columns', None)\n",
    "import sys\n",
    "import gen_adj_mx\n",
    "\n",
    "import pickle\n",
    "# np.set_printoptions(threshold=sys.maxsize)"
   ]
  },
  {
   "cell_type": "code",
   "execution_count": 3,
   "metadata": {},
   "outputs": [],
   "source": [
    "distances_filename = '../data/sensor_graph/004_ca_commute_flows_edgelist.csv'\n",
    "distance_df = pd.read_csv(distances_filename, dtype={'source_county_fips_code': 'str', 'target_county_fips_code': 'str'})\n",
    "distance_df = distance_df.sort_values(by=['source_county_fips_code', 'target_county_fips_code'])\n",
    "nodelist = distance_df.source_county_fips_code.unique()\n",
    "with open('../data/sensor_graph/004_ca_commute_flows_nodelist.txt', 'w') as f:\n",
    "    for item in nodelist:\n",
    "        f.write(\"%s\\n\" % item)"
   ]
  },
  {
   "cell_type": "code",
   "execution_count": 4,
   "metadata": {},
   "outputs": [],
   "source": [
    "# south california (LA, OR, SD)\n",
    "nodelist1 = np.array(['06037', '06059', '06073'])\n",
    "with open('../data/sensor_graph/south_ca_commute_flows_nodelist.txt', 'w') as f:\n",
    "    for item in nodelist1:\n",
    "        f.write(\"%s\\n\" % item)"
   ]
  },
  {
   "cell_type": "markdown",
   "metadata": {},
   "source": [
    "generate adj_mx"
   ]
  },
  {
   "cell_type": "code",
   "execution_count": 10,
   "metadata": {},
   "outputs": [],
   "source": [
    "distances_filename = '../data/sensor_graph/004_ca_commute_flows_edgelist.csv'\n",
    "sensor_ids_filename = '../data/sensor_graph/004_ca_commute_flows_nodelist.txt'\n",
    "distance_df = pd.read_csv(distances_filename, dtype={'source_county_fips_code': 'str', 'target_county_fips_code': 'str'})\n",
    "\n",
    "with open(sensor_ids_filename) as f:\n",
    "        sensor_ids = f.read().strip().splitlines()\n",
    "        \n",
    "_, sensor_id_to_ind, adj_mx = gen_adj_mx.get_adjacency_matrix(distance_df, sensor_ids)"
   ]
  },
  {
   "cell_type": "code",
   "execution_count": 12,
   "metadata": {},
   "outputs": [
    {
     "data": {
      "text/plain": [
       "array([0.8456791 , 0.93015033, 0.91688067, 0.9796598 , 0.87542164,\n",
       "       0.929613  , 0.8247125 , 0.997337  , 0.85675454, 0.9743789 ,\n",
       "       0.897392  , 0.99700075, 0.9860835 , 0.96342456, 0.9829671 ,\n",
       "       0.9275222 , 0.93261945, 0.985082  , 0.97161674, 0.92320496,\n",
       "       0.85526943, 0.921131  , 0.9848648 , 0.92380774, 0.9634146 ,\n",
       "       0.97476315, 0.9708781 , 0.92661893, 0.9361368 , 0.92824614,\n",
       "       0.86514413, 0.9784351 , 0.90663666, 0.9328231 , 0.7796619 ,\n",
       "       0.8868572 , 0.9934116 , 0.9032093 , 0.9223898 , 0.960299  ,\n",
       "       0.7907165 , 0.9763267 , 0.9518679 , 0.9003075 , 0.9846375 ,\n",
       "       0.9205561 , 0.9920492 , 0.8576546 , 0.952252  , 0.92502946,\n",
       "       0.85597444, 0.9022517 , 0.962686  , 0.9522766 , 0.9768857 ,\n",
       "       0.90205544, 0.86779857, 0.87242126], dtype=float32)"
      ]
     },
     "execution_count": 12,
     "metadata": {},
     "output_type": "execute_result"
    }
   ],
   "source": [
    "np.diagonal(adj_mx)"
   ]
  },
  {
   "cell_type": "markdown",
   "metadata": {},
   "source": [
    "Check adj_mx"
   ]
  },
  {
   "cell_type": "code",
   "execution_count": 5,
   "metadata": {},
   "outputs": [],
   "source": [
    "with open('../data/sensor_graph/adj_mx.pkl', 'rb') as f:\n",
    "    data = pickle.load(f)"
   ]
  },
  {
   "cell_type": "code",
   "execution_count": 13,
   "metadata": {},
   "outputs": [
    {
     "data": {
      "text/plain": [
       "array([ True,  True,  True,  True,  True,  True,  True,  True,  True,\n",
       "        True,  True,  True,  True,  True,  True,  True,  True,  True,\n",
       "        True,  True,  True,  True,  True,  True,  True,  True,  True,\n",
       "        True,  True,  True,  True,  True,  True,  True,  True,  True,\n",
       "        True,  True,  True,  True,  True,  True,  True,  True,  True,\n",
       "        True,  True,  True,  True,  True,  True,  True,  True,  True,\n",
       "        True,  True,  True,  True])"
      ]
     },
     "execution_count": 13,
     "metadata": {},
     "output_type": "execute_result"
    }
   ],
   "source": [
    "np.diagonal(data[2]) == np.diagonal(adj_mx)"
   ]
  },
  {
   "cell_type": "code",
   "execution_count": 6,
   "metadata": {},
   "outputs": [],
   "source": [
    "with open('../data/sensor_graph/adj_mx_sca.pkl', 'rb') as f:\n",
    "    data = pickle.load(f)"
   ]
  },
  {
   "cell_type": "code",
   "execution_count": 7,
   "metadata": {},
   "outputs": [
    {
     "data": {
      "text/plain": [
       "[['06037', '06059', '06073'],\n",
       " {'06037': 0, '06059': 1, '06073': 2},\n",
       " array([[0.9814833 , 0.01851672, 0.        ],\n",
       "        [0.05938829, 0.9371368 , 0.00347489],\n",
       "        [0.        , 0.00412336, 0.9958766 ]], dtype=float32)]"
      ]
     },
     "execution_count": 7,
     "metadata": {},
     "output_type": "execute_result"
    }
   ],
   "source": [
    "data"
   ]
  },
  {
   "cell_type": "code",
   "execution_count": null,
   "metadata": {},
   "outputs": [],
   "source": []
  }
 ],
 "metadata": {
  "kernelspec": {
   "display_name": "Python 3",
   "language": "python",
   "name": "python3"
  },
  "language_info": {
   "codemirror_mode": {
    "name": "ipython",
    "version": 3
   },
   "file_extension": ".py",
   "mimetype": "text/x-python",
   "name": "python",
   "nbconvert_exporter": "python",
   "pygments_lexer": "ipython3",
   "version": "3.7.3"
  }
 },
 "nbformat": 4,
 "nbformat_minor": 2
}
